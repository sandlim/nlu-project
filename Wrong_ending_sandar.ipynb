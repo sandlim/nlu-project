{
 "cells": [
  {
   "cell_type": "code",
   "execution_count": 102,
   "metadata": {},
   "outputs": [],
   "source": [
    "import numpy as np\n",
    "import pandas as pd\n",
    "train_dat = pd.read_csv('./data/train_stories.csv')\n",
    "from nltk.corpus import wordnet as wn\n",
    "from nltk.tokenize import word_tokenize\n",
    "from random import randint\n",
    "import nltk.data\n",
    "from itertools import chain"
   ]
  },
  {
   "cell_type": "code",
   "execution_count": 125,
   "metadata": {},
   "outputs": [],
   "source": [
    "text = \"John is happy. Charlie is angry. She successfully made her gandmother's pizza\"\n",
    "output = \"\""
   ]
  },
  {
   "cell_type": "code",
   "execution_count": 126,
   "metadata": {},
   "outputs": [],
   "source": [
    "tokenizer = nltk.data.load('tokenizers/punkt/english.pickle')\n",
    "tokenized = tokenizer.tokenize(text)\n",
    "words = word_tokenize(text)\n",
    "tagged = nltk.pos_tag(words)"
   ]
  },
  {
   "cell_type": "code",
   "execution_count": 127,
   "metadata": {},
   "outputs": [
    {
     "data": {
      "text/plain": [
       "[('John', 'NNP'),\n",
       " ('is', 'VBZ'),\n",
       " ('happy', 'JJ'),\n",
       " ('.', '.'),\n",
       " ('Charlie', 'NNP'),\n",
       " ('is', 'VBZ'),\n",
       " ('angry', 'JJ'),\n",
       " ('.', '.'),\n",
       " ('She', 'PRP'),\n",
       " ('successfully', 'RB'),\n",
       " ('made', 'VBD'),\n",
       " ('her', 'PRP$'),\n",
       " ('gandmother', 'NN'),\n",
       " (\"'s\", 'POS'),\n",
       " ('pizza', 'NN')]"
      ]
     },
     "execution_count": 127,
     "metadata": {},
     "output_type": "execute_result"
    }
   ],
   "source": [
    "tagged"
   ]
  },
  {
   "cell_type": "code",
   "execution_count": 128,
   "metadata": {},
   "outputs": [],
   "source": [
    "def get_antonyms(input_lemma):\n",
    "    antonyms = []\n",
    "    for syn in wn.synsets(input_lemma):\n",
    "        for lemma in syn.lemmas():\n",
    "            if lemma.antonyms():\n",
    "                antonyms.append(lemma.antonyms()[0].name())\n",
    "    return antonyms"
   ]
  },
  {
   "cell_type": "code",
   "execution_count": 129,
   "metadata": {},
   "outputs": [
    {
     "data": {
      "text/plain": [
       "{'adept',\n",
       " 'beneficial',\n",
       " 'commodity',\n",
       " 'dear',\n",
       " 'dependable',\n",
       " 'effective',\n",
       " 'estimable',\n",
       " 'expert',\n",
       " 'full',\n",
       " 'good',\n",
       " 'goodness',\n",
       " 'honest',\n",
       " 'honorable',\n",
       " 'in_effect',\n",
       " 'in_force',\n",
       " 'just',\n",
       " 'near',\n",
       " 'practiced',\n",
       " 'proficient',\n",
       " 'respectable',\n",
       " 'right',\n",
       " 'ripe',\n",
       " 'safe',\n",
       " 'salutary',\n",
       " 'secure',\n",
       " 'serious',\n",
       " 'skilful',\n",
       " 'skillful',\n",
       " 'sound',\n",
       " 'soundly',\n",
       " 'thoroughly',\n",
       " 'trade_good',\n",
       " 'undecomposed',\n",
       " 'unspoiled',\n",
       " 'unspoilt',\n",
       " 'upright',\n",
       " 'well'}"
      ]
     },
     "execution_count": 129,
     "metadata": {},
     "output_type": "execute_result"
    }
   ],
   "source": [
    "synonyms = wn.synsets('good')\n",
    "set(chain.from_iterable([word.lemma_names() for word in synonyms]))"
   ]
  },
  {
   "cell_type": "code",
   "execution_count": 130,
   "metadata": {},
   "outputs": [
    {
     "data": {
      "text/plain": [
       "['large', 'big', 'big']"
      ]
     },
     "execution_count": 130,
     "metadata": {},
     "output_type": "execute_result"
    }
   ],
   "source": [
    "get_antonyms('small')"
   ]
  },
  {
   "cell_type": "code",
   "execution_count": 131,
   "metadata": {},
   "outputs": [
    {
     "data": {
      "text/plain": [
       "'unhappy'"
      ]
     },
     "execution_count": 131,
     "metadata": {},
     "output_type": "execute_result"
    }
   ],
   "source": [
    "get_antonyms(words[2])[0]"
   ]
  },
  {
   "cell_type": "code",
   "execution_count": 132,
   "metadata": {},
   "outputs": [
    {
     "name": "stdout",
     "output_type": "stream",
     "text": [
      " John is unhappy . Charlie is unangry . She unsuccessfully made her gandmother 's pizza\n"
     ]
    }
   ],
   "source": [
    "output = \"\"\n",
    "for i in range(0,len(words)):\n",
    "    new_word = []\n",
    "    \n",
    "    if tagged[i][1] == 'JJ' or tagged[i][1] == 'RB':\n",
    "        new_word = get_antonyms(words[i])[0]\n",
    "        \n",
    "        output = output + \" \" + new_word        \n",
    "    \n",
    "    else:\n",
    "        output = output + \" \" + words[i]\n",
    "print(output)"
   ]
  },
  {
   "cell_type": "code",
   "execution_count": 120,
   "metadata": {},
   "outputs": [
    {
     "data": {
      "text/plain": [
       "True"
      ]
     },
     "execution_count": 120,
     "metadata": {},
     "output_type": "execute_result"
    }
   ],
   "source": [
    "tagged[9][1] == 'RB'"
   ]
  },
  {
   "cell_type": "code",
   "execution_count": 121,
   "metadata": {},
   "outputs": [
    {
     "data": {
      "text/plain": [
       "'sucessfully'"
      ]
     },
     "execution_count": 121,
     "metadata": {},
     "output_type": "execute_result"
    }
   ],
   "source": [
    "words[(9)]"
   ]
  },
  {
   "cell_type": "code",
   "execution_count": 123,
   "metadata": {},
   "outputs": [
    {
     "data": {
      "text/plain": [
       "[]"
      ]
     },
     "execution_count": 123,
     "metadata": {},
     "output_type": "execute_result"
    }
   ],
   "source": [
    "get_antonyms(words[9])"
   ]
  },
  {
   "cell_type": "code",
   "execution_count": null,
   "metadata": {},
   "outputs": [],
   "source": []
  }
 ],
 "metadata": {
  "kernelspec": {
   "display_name": "Python 3",
   "language": "python",
   "name": "python3"
  },
  "language_info": {
   "codemirror_mode": {
    "name": "ipython",
    "version": 3
   },
   "file_extension": ".py",
   "mimetype": "text/x-python",
   "name": "python",
   "nbconvert_exporter": "python",
   "pygments_lexer": "ipython3",
   "version": "3.6.4"
  }
 },
 "nbformat": 4,
 "nbformat_minor": 2
}
